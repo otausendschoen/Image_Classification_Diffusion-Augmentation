{
 "cells": [
  {
   "cell_type": "code",
   "execution_count": 31,
   "id": "79f06555",
   "metadata": {},
   "outputs": [],
   "source": [
    "import pandas as pd\n",
    "import numpy as np\n",
    "from scipy.stats import ttest_ind"
   ]
  },
  {
   "cell_type": "markdown",
   "id": "644b03ae",
   "metadata": {},
   "source": [
    "# 50 %"
   ]
  },
  {
   "cell_type": "code",
   "execution_count": 32,
   "id": "d4b92bd9",
   "metadata": {},
   "outputs": [],
   "source": [
    "data = pd.read_csv('../data/all_runs_results.csv')\n",
    "data_2 = pd.read_csv('../data/all_runs_results_2.csv')\n",
    "data = pd.concat([data, data_2], ignore_index=True)\n"
   ]
  },
  {
   "cell_type": "code",
   "execution_count": 33,
   "id": "7e77544a",
   "metadata": {},
   "outputs": [
    {
     "name": "stdout",
     "output_type": "stream",
     "text": [
      "                      experiment  best_val_acc\n",
      "12        Geometric Augmentation      0.986889\n",
      "9    5% Synthetic Data + Geo Aug      0.985963\n",
      "3   20% Synthetic Data + Geo Aug      0.984333\n",
      "1   10% Synthetic Data + Geo Aug      0.984000\n",
      "11  50% Synthetic Data + Geo Aug      0.983704\n",
      "13               No Augmentation      0.983444\n",
      "5   30% Synthetic Data + Geo Aug      0.982889\n",
      "7   40% Synthetic Data + Geo Aug      0.982852\n",
      "8              5% Synthetic Data      0.982259\n",
      "0             10% Synthetic Data      0.980593\n",
      "2             20% Synthetic Data      0.980222\n",
      "6             40% Synthetic Data      0.979926\n",
      "4             30% Synthetic Data      0.978370\n",
      "10            50% Synthetic Data      0.978111\n"
     ]
    }
   ],
   "source": [
    "pivot_avg = data.pivot_table(\n",
    "    index='experiment',\n",
    "    values='best_val_acc',\n",
    "    aggfunc='mean'\n",
    ").reset_index().sort_values(by='best_val_acc', ascending=False)\n",
    "\n",
    "print(pivot_avg)"
   ]
  },
  {
   "cell_type": "markdown",
   "id": "57de82b2",
   "metadata": {},
   "source": [
    "## T - test"
   ]
  },
  {
   "cell_type": "code",
   "execution_count": 34,
   "id": "0b40762d",
   "metadata": {},
   "outputs": [],
   "source": [
    "baseline = data[data['experiment'] == 'No Augmentation']['best_val_acc']"
   ]
  },
  {
   "cell_type": "code",
   "execution_count": 35,
   "id": "f9561d93",
   "metadata": {},
   "outputs": [
    {
     "name": "stdout",
     "output_type": "stream",
     "text": [
      "Geometric Augmentation: ΔMean = 0.0034, t = -4.2923, p = 0.0004\n",
      "5% Synthetic Data: ΔMean = -0.0012, t = 1.5594, p = 0.1368\n",
      "10% Synthetic Data: ΔMean = -0.0029, t = 4.1725, p = 0.0008\n",
      "20% Synthetic Data: ΔMean = -0.0032, t = 3.8973, p = 0.0011\n",
      "30% Synthetic Data: ΔMean = -0.0051, t = 5.9540, p = 0.0000\n",
      "40% Synthetic Data: ΔMean = -0.0035, t = 4.6130, p = 0.0002\n",
      "50% Synthetic Data: ΔMean = -0.0053, t = 8.1787, p = 0.0000\n",
      "20% Synthetic Data + Geo Aug: ΔMean = 0.0009, t = -1.1866, p = 0.2515\n",
      "30% Synthetic Data + Geo Aug: ΔMean = -0.0006, t = 0.8763, p = 0.3977\n",
      "40% Synthetic Data + Geo Aug: ΔMean = -0.0006, t = 0.7998, p = 0.4348\n",
      "50% Synthetic Data + Geo Aug: ΔMean = 0.0003, t = -0.3677, p = 0.7179\n",
      "5% Synthetic Data + Geo Aug: ΔMean = 0.0025, t = -3.3225, p = 0.0039\n",
      "10% Synthetic Data + Geo Aug: ΔMean = 0.0006, t = -0.8248, p = 0.4229\n"
     ]
    }
   ],
   "source": [
    "for experiment in data['experiment'].unique():\n",
    "    if experiment == 'No Augmentation':\n",
    "        continue\n",
    "    group = data[data['experiment']== experiment]['best_val_acc']\n",
    "    t_stat, p_val = ttest_ind(baseline, group, equal_var=False)\n",
    "    mean_diff = group.mean() - baseline.mean()\n",
    "    print(f\"{experiment}: ΔMean = {mean_diff:.4f}, t = {t_stat:.4f}, p = {p_val:.4f}\")\n"
   ]
  },
  {
   "cell_type": "markdown",
   "id": "a4f81739",
   "metadata": {},
   "source": [
    "# 10 %"
   ]
  },
  {
   "cell_type": "code",
   "execution_count": 36,
   "id": "a49c48bf",
   "metadata": {},
   "outputs": [
    {
     "name": "stdout",
     "output_type": "stream",
     "text": [
      "                      experiment  best_val_acc\n",
      "12        Geometric Augmentation      0.972407\n",
      "5   30% Synthetic Data + Geo Aug      0.968704\n",
      "9    5% Synthetic Data + Geo Aug      0.967407\n",
      "7   40% Synthetic Data + Geo Aug      0.967037\n",
      "11  50% Synthetic Data + Geo Aug      0.966111\n",
      "1   10% Synthetic Data + Geo Aug      0.966111\n",
      "13               No Augmentation      0.964074\n",
      "3   20% Synthetic Data + Geo Aug      0.964074\n",
      "2             20% Synthetic Data      0.963889\n",
      "0             10% Synthetic Data      0.963333\n",
      "8              5% Synthetic Data      0.963148\n",
      "6             40% Synthetic Data      0.960185\n",
      "10            50% Synthetic Data      0.955185\n",
      "4             30% Synthetic Data      0.947963\n"
     ]
    }
   ],
   "source": [
    "data = pd.read_csv('../data/all_runs_results_10.csv')\n",
    "pivot_avg = data.pivot_table(\n",
    "    index='experiment',\n",
    "    values='best_val_acc',\n",
    "    aggfunc='mean'\n",
    ").reset_index().sort_values(by='best_val_acc', ascending=False)\n",
    "print(pivot_avg)"
   ]
  },
  {
   "cell_type": "markdown",
   "id": "41ae2c43",
   "metadata": {},
   "source": [
    "## T - Test"
   ]
  },
  {
   "cell_type": "code",
   "execution_count": 37,
   "id": "6275423f",
   "metadata": {},
   "outputs": [
    {
     "name": "stdout",
     "output_type": "stream",
     "text": [
      "Geometric Augmentation: ΔMean = 0.0083, t = -4.8556, p = 0.0001\n",
      "5% Synthetic Data: ΔMean = -0.0009, t = 0.4713, p = 0.6432\n",
      "10% Synthetic Data: ΔMean = -0.0007, t = 0.3914, p = 0.7001\n",
      "20% Synthetic Data: ΔMean = -0.0002, t = 0.0918, p = 0.9279\n",
      "30% Synthetic Data: ΔMean = -0.0161, t = 6.4987, p = 0.0000\n",
      "40% Synthetic Data: ΔMean = -0.0039, t = 1.7971, p = 0.0904\n",
      "50% Synthetic Data: ΔMean = -0.0089, t = 3.9938, p = 0.0010\n",
      "5% Synthetic Data + Geo Aug: ΔMean = 0.0033, t = -1.7538, p = 0.0965\n",
      "10% Synthetic Data + Geo Aug: ΔMean = 0.0020, t = -1.1489, p = 0.2657\n",
      "20% Synthetic Data + Geo Aug: ΔMean = 0.0000, t = 0.0000, p = 1.0000\n",
      "30% Synthetic Data + Geo Aug: ΔMean = 0.0046, t = -2.7332, p = 0.0139\n",
      "40% Synthetic Data + Geo Aug: ΔMean = 0.0030, t = -1.6000, p = 0.1270\n",
      "50% Synthetic Data + Geo Aug: ΔMean = 0.0020, t = -0.8932, p = 0.3850\n"
     ]
    }
   ],
   "source": [
    "baseline = data[data['experiment'] == 'No Augmentation']['best_val_acc']\n",
    "\n",
    "for experiment in data['experiment'].unique():\n",
    "    if experiment == 'No Augmentation':\n",
    "        continue\n",
    "    group = data[data['experiment']== experiment]['best_val_acc']\n",
    "    t_stat, p_val = ttest_ind(baseline, group, equal_var=False)\n",
    "    mean_diff = group.mean() - baseline.mean()\n",
    "    print(f\"{experiment}: ΔMean = {mean_diff:.4f}, t = {t_stat:.4f}, p = {p_val:.4f}\")\n"
   ]
  }
 ],
 "metadata": {
  "kernelspec": {
   "display_name": "Diffusion",
   "language": "python",
   "name": "python3"
  },
  "language_info": {
   "codemirror_mode": {
    "name": "ipython",
    "version": 3
   },
   "file_extension": ".py",
   "mimetype": "text/x-python",
   "name": "python",
   "nbconvert_exporter": "python",
   "pygments_lexer": "ipython3",
   "version": "3.11.11"
  }
 },
 "nbformat": 4,
 "nbformat_minor": 5
}
